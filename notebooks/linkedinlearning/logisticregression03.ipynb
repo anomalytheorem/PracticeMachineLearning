# %% [markdown]
# # Classifying Data with Logistic Regression in Python
# 
# ## Learning Objectives
# Logistic Regression is one of the simplest and most commonly used classification approaches in machine learning. Logistic regression allows us to model the relationship between independent variables and the probability of a categorical response (such as True or False, Yes or No). By the end of this tutorial, you will have learned:
# 
# + How to import, explore and prepare data
# + How to build a Logistic Regression model
# + How to evaluate a Logistic Regression model
# + How to interpret the coefficients of a Logistic Regression model 

# %% [markdown]
# ## 1. Collect the Data

# %% [markdown]
# Before we import our data, we must first import the `pandas` package.

# %%
import pandas as pd

# %% [markdown]
# Now, we can import our data into a dataframe called `loan`.

# %%
loan = pd.read_csv("loan.csv")

# %% [markdown]
# To verify that the import worked as expected, let’s use the `head()` method of the pandas dataframe to preview the data.

# %%
loan.head()

# %% [markdown]
# Our dataset has three columns. The first two - `Income` and `Loan Amount` - are the predictors (or independent variables), while the last one - `Default` - is the response (or dependent variable).
# 
# In this exercise, we’ll use this `loan` data to train a logistic regression model to predict whether a borrower will default or not default on a new loan based on their income and the amount of money they intend to borrow. 

# %% [markdown]
# ## 2. Explore the Data

# %% [markdown]
# Now that we have our data, let's try to understand it.
# 
# First, let's get a concise summary of the structure of the data by calling the `info()` method of the `loan` dataframe.

# %%
loan.info()

# %% [markdown]
# By looking at the `RangeIndex` value from the summary, we can tell that there are 30 instances (or rows) in the dataset. 
# 
# The `Data columns` value shows that the dataset consists of 3 features (or columns). Looking at the `Dtype` column within this section, we see that the `Income` and `Loan Amount` columns hold integer values, while the `Default` column holds text (aka object).

# %% [markdown]
# Next, let's get summary statistics for the numeric features in the data by calling the `describe()` method of the dataframe.

# %%
loan.describe()

# %% [markdown]
# From the statistics, we can see the average, standard deviation, minimum, and maximum values for both the `Income` and `Loan Amount` variables. We also get the 25th, 50th and 75th percentile values for both variables.
# 
# Note that the values are in the thousands, so the minimum and maximum income values are \\$12,000 and \\$34,000, respectively. 
# 
# Now that we've described our data structurally and numerically, let’s describe it visually as well.

# %% [markdown]
# ### Boxplot
# Before we create the plots we need, we must first import a couple of packages. The first is the `matplotlib` package and the second is the `seaborn` package.

# %%
from matplotlib import pyplot as plt
import seaborn as sns

# %% [markdown]
# Let's start by creating a boxplot that highlights the difference in annual income between those that did not default on their loan (No) and those that did default (Yes). 

# %%
ax = sns.boxplot(data = loan, x = 'Default', y = 'Income')

# %% [markdown]
# The chart shows that those that did not default on their loans tend to have a higher annual income than those that did default on their loans. 

# %% [markdown]
# Next, let's create another box plot to highlight the difference in amount borrowed between those that did not default on their loans and those that did.

# %%
ax = sns.boxplot(data = loan, x = 'Default', y = 'Loan Amount')

# %% [markdown]
# This chart shows that those that defaulted on their loans tend to have borrowed more money than those that did not default.

# %% [markdown]
# ### Scatterplot
# If we recode the `Default` feature values 'No' and 'Yes' to '0' and '1', we can also use a scatterplot to get a slightly different perspective of our data. 

# %% [markdown]
# However, before we do so, we must first import the `numpy` package.

# %%
import numpy as np

# %% [markdown]
# Now, we can create a scatterplot that describes the relationship between the annual income of borrowers and loan outcomes. 

# %%
ax = sns.scatterplot(x = loan['Income'], 
                     y = np.where(loan['Default'] == 'No', 0, 1), 
                     s = 150)

# %% [markdown]
# We can also describe the relationship between the amount borrowed and loan outcomes. 

# %%
ax = sns.scatterplot(x = loan['Loan Amount'], 
                     y = np.where(loan['Default'] == 'No', 0, 1), 
                     s = 150)

# %% [markdown]
# Looking at these two charts, we can easily imagine a sigmoid curve that fits the data. This tells us that a logistic regression function would model the relationship between the predictors (`Income` and `Loan Amount`) and the response (`Default`) well.


  
